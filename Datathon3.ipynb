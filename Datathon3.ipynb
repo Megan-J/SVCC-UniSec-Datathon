{
  "nbformat": 4,
  "nbformat_minor": 0,
  "metadata": {
    "colab": {
      "provenance": []
    },
    "kernelspec": {
      "display_name": "Python 3",
      "name": "python3"
    },
    "language_info": {
      "name": "python"
    }
  },
  "cells": [
    {
      "cell_type": "code",
      "metadata": {
        "id": "uNqE1mJV1ou0"
      },
      "source": [
        "# Set Kaggle credentials to download files directly from their website\n",
        "!mkdir ~/.kaggle\n",
        "!touch ~/.kaggle/kaggle.json\n",
        "\n",
        "api_token = {\"username\" : \"megan25\", \"key\": \"3f6387270a83eb1ddb984a240d0cc934\"}\n",
        "\n",
        "import json\n",
        "\n",
        "with open('/root/.kaggle/kaggle.json', 'w') as file:\n",
        "  json.dump(api_token, file)\n",
        "\n",
        "!chmod 600 ~/.kaggle/kaggle.json"
      ],
      "execution_count": null,
      "outputs": []
    },
    {
      "cell_type": "code",
      "metadata": {
        "colab": {
          "base_uri": "https://localhost:8080/"
        },
        "id": "2YthFR3F1r9G",
        "outputId": "7deaf916-900f-4218-e438-8f1b0438875f"
      },
      "source": [
        "# Download the data via kaggle API\n",
        "!kaggle competitions download -c datathonSVCC21"
      ],
      "execution_count": null,
      "outputs": [
        {
          "output_type": "stream",
          "name": "stdout",
          "text": [
            "Warning: Looks like you're using an outdated API Version, please consider updating (server 1.5.12 / client 1.5.4)\n",
            "Downloading metaData.csv to /content\n",
            "  0% 0.00/4.12k [00:00<?, ?B/s]\n",
            "100% 4.12k/4.12k [00:00<00:00, 3.64MB/s]\n",
            "Downloading sample_submission.csv to /content\n",
            "  0% 0.00/165k [00:00<?, ?B/s]\n",
            "100% 165k/165k [00:00<00:00, 51.4MB/s]\n",
            "Downloading train.csv.zip to /content\n",
            " 65% 5.00M/7.68M [00:00<00:00, 48.0MB/s]\n",
            "100% 7.68M/7.68M [00:00<00:00, 49.0MB/s]\n",
            "Downloading test.csv.zip to /content\n",
            "  0% 0.00/1.91M [00:00<?, ?B/s]\n",
            "100% 1.91M/1.91M [00:00<00:00, 56.3MB/s]\n"
          ]
        }
      ]
    },
    {
      "cell_type": "code",
      "metadata": {
        "colab": {
          "base_uri": "https://localhost:8080/"
        },
        "id": "mbbUBZF81uTr",
        "outputId": "f87063dc-06a3-45b6-e3bf-78425cc2cb13"
      },
      "source": [
        "# Unzip the test and training files\n",
        "!unzip test.csv.zip\n",
        "!unzip train.csv.zip"
      ],
      "execution_count": null,
      "outputs": [
        {
          "output_type": "stream",
          "name": "stdout",
          "text": [
            "Archive:  test.csv.zip\n",
            "  inflating: test.csv                \n",
            "Archive:  train.csv.zip\n",
            "  inflating: train.csv               \n"
          ]
        }
      ]
    },
    {
      "cell_type": "code",
      "metadata": {
        "colab": {
          "base_uri": "https://localhost:8080/",
          "height": 226
        },
        "id": "jnW7j4ef1wX4",
        "outputId": "88e48ec1-6771-4dfb-d2cc-cf2ae84cc233"
      },
      "source": [
        "# Read in training data to pandas dataframe\n",
        "import pandas as pd\n",
        "\n",
        "train_df = pd.read_csv('train.csv')\n",
        "\n",
        "# Show the first 5 rows\n",
        "train_df.head()"
      ],
      "execution_count": null,
      "outputs": [
        {
          "output_type": "execute_result",
          "data": {
            "text/html": [
              "<div>\n",
              "<style scoped>\n",
              "    .dataframe tbody tr th:only-of-type {\n",
              "        vertical-align: middle;\n",
              "    }\n",
              "\n",
              "    .dataframe tbody tr th {\n",
              "        vertical-align: top;\n",
              "    }\n",
              "\n",
              "    .dataframe thead th {\n",
              "        text-align: right;\n",
              "    }\n",
              "</style>\n",
              "<table border=\"1\" class=\"dataframe\">\n",
              "  <thead>\n",
              "    <tr style=\"text-align: right;\">\n",
              "      <th></th>\n",
              "      <th>packet_id</th>\n",
              "      <th>seq_no</th>\n",
              "      <th>ip_add_src</th>\n",
              "      <th>ip_add_dest</th>\n",
              "      <th>src_inpk_at</th>\n",
              "      <th>dest_inpk_at</th>\n",
              "      <th>src_dest_ttl</th>\n",
              "      <th>starttime</th>\n",
              "      <th>lasttime</th>\n",
              "      <th>lstm_cxn_sport</th>\n",
              "      <th>lstm_cxn_dport</th>\n",
              "      <th>total_rec_time</th>\n",
              "      <th>src_ad_val</th>\n",
              "      <th>dest_ad_val</th>\n",
              "      <th>cxn_service_src</th>\n",
              "      <th>cxn_service_dest</th>\n",
              "      <th>lstm_cxn_src</th>\n",
              "      <th>lstm_cxn_dest</th>\n",
              "      <th>src_ttl</th>\n",
              "      <th>dest_ttl</th>\n",
              "      <th>src_bsn</th>\n",
              "      <th>dest_bsn</th>\n",
              "      <th>http_depth</th>\n",
              "      <th>src_pkt_count</th>\n",
              "      <th>dest_pkt_count</th>\n",
              "      <th>trans_src_bytes</th>\n",
              "      <th>dest_src_bytes</th>\n",
              "      <th>trans_protocol</th>\n",
              "      <th>src_bits</th>\n",
              "      <th>dest_bits</th>\n",
              "      <th>dep_protocol</th>\n",
              "      <th>src_dropped</th>\n",
              "      <th>dest_dropped</th>\n",
              "      <th>src_pkt_size</th>\n",
              "      <th>dest_pkt_size</th>\n",
              "      <th>src_jitter</th>\n",
              "      <th>dest_jitter</th>\n",
              "      <th>http_data_trans</th>\n",
              "      <th>src_dst_ip</th>\n",
              "      <th>cxn_rtt</th>\n",
              "      <th>pkack_cxn_rtt</th>\n",
              "      <th>pksyn_cxn_rtt</th>\n",
              "      <th>trans_type</th>\n",
              "      <th>ftp_pswd_flow</th>\n",
              "      <th>lstm_cxn_count</th>\n",
              "      <th>req_method</th>\n",
              "      <th>speed</th>\n",
              "      <th>ftp_access</th>\n",
              "      <th>rnd</th>\n",
              "      <th>port_dest</th>\n",
              "      <th>port_src</th>\n",
              "      <th>is_nw_intruded</th>\n",
              "    </tr>\n",
              "  </thead>\n",
              "  <tbody>\n",
              "    <tr>\n",
              "      <th>0</th>\n",
              "      <td>1</td>\n",
              "      <td>81722</td>\n",
              "      <td>60.2.170.234</td>\n",
              "      <td>230.158.83.77</td>\n",
              "      <td>0.009000</td>\n",
              "      <td>0.000000</td>\n",
              "      <td>2</td>\n",
              "      <td>10:43:40</td>\n",
              "      <td>10:43:49</td>\n",
              "      <td>6</td>\n",
              "      <td>6</td>\n",
              "      <td>0.000009</td>\n",
              "      <td>0</td>\n",
              "      <td>0</td>\n",
              "      <td>22</td>\n",
              "      <td>22</td>\n",
              "      <td>6</td>\n",
              "      <td>6</td>\n",
              "      <td>254</td>\n",
              "      <td>0</td>\n",
              "      <td>0</td>\n",
              "      <td>0</td>\n",
              "      <td>0</td>\n",
              "      <td>2</td>\n",
              "      <td>0</td>\n",
              "      <td>114</td>\n",
              "      <td>0</td>\n",
              "      <td>udp</td>\n",
              "      <td>5.066666e+07</td>\n",
              "      <td>0.000000</td>\n",
              "      <td>INT</td>\n",
              "      <td>0</td>\n",
              "      <td>0</td>\n",
              "      <td>57</td>\n",
              "      <td>0</td>\n",
              "      <td>0.000000</td>\n",
              "      <td>0.000000</td>\n",
              "      <td>0</td>\n",
              "      <td>0</td>\n",
              "      <td>0.000000</td>\n",
              "      <td>0.000000</td>\n",
              "      <td>0.000000</td>\n",
              "      <td>dns</td>\n",
              "      <td>0</td>\n",
              "      <td>22</td>\n",
              "      <td>0</td>\n",
              "      <td>111111.107200</td>\n",
              "      <td>0</td>\n",
              "      <td>13905</td>\n",
              "      <td>64382</td>\n",
              "      <td>54834</td>\n",
              "      <td>1</td>\n",
              "    </tr>\n",
              "    <tr>\n",
              "      <th>1</th>\n",
              "      <td>2</td>\n",
              "      <td>83673</td>\n",
              "      <td>79.179.114.175</td>\n",
              "      <td>100.63.1.11</td>\n",
              "      <td>85.161507</td>\n",
              "      <td>18.947174</td>\n",
              "      <td>1</td>\n",
              "      <td>17:25:08</td>\n",
              "      <td>17:25:25</td>\n",
              "      <td>1</td>\n",
              "      <td>1</td>\n",
              "      <td>4.002591</td>\n",
              "      <td>255</td>\n",
              "      <td>255</td>\n",
              "      <td>1</td>\n",
              "      <td>1</td>\n",
              "      <td>1</td>\n",
              "      <td>1</td>\n",
              "      <td>62</td>\n",
              "      <td>252</td>\n",
              "      <td>1224718414</td>\n",
              "      <td>3666839597</td>\n",
              "      <td>0</td>\n",
              "      <td>48</td>\n",
              "      <td>208</td>\n",
              "      <td>2302</td>\n",
              "      <td>253561</td>\n",
              "      <td>tcp</td>\n",
              "      <td>4.507081e+03</td>\n",
              "      <td>504357.281300</td>\n",
              "      <td>FIN</td>\n",
              "      <td>6</td>\n",
              "      <td>102</td>\n",
              "      <td>48</td>\n",
              "      <td>1219</td>\n",
              "      <td>6004.057264</td>\n",
              "      <td>2968.238180</td>\n",
              "      <td>0</td>\n",
              "      <td>0</td>\n",
              "      <td>0.116756</td>\n",
              "      <td>0.056520</td>\n",
              "      <td>0.060236</td>\n",
              "      <td>-</td>\n",
              "      <td>0</td>\n",
              "      <td>1</td>\n",
              "      <td>0</td>\n",
              "      <td>63.708731</td>\n",
              "      <td>0</td>\n",
              "      <td>2366</td>\n",
              "      <td>56998</td>\n",
              "      <td>54907</td>\n",
              "      <td>1</td>\n",
              "    </tr>\n",
              "    <tr>\n",
              "      <th>2</th>\n",
              "      <td>3</td>\n",
              "      <td>60486</td>\n",
              "      <td>78.219.187.155</td>\n",
              "      <td>103.152.152.4</td>\n",
              "      <td>0.005000</td>\n",
              "      <td>0.000000</td>\n",
              "      <td>2</td>\n",
              "      <td>06:25:47</td>\n",
              "      <td>06:25:47</td>\n",
              "      <td>1</td>\n",
              "      <td>1</td>\n",
              "      <td>0.000005</td>\n",
              "      <td>0</td>\n",
              "      <td>0</td>\n",
              "      <td>3</td>\n",
              "      <td>1</td>\n",
              "      <td>1</td>\n",
              "      <td>1</td>\n",
              "      <td>254</td>\n",
              "      <td>0</td>\n",
              "      <td>0</td>\n",
              "      <td>0</td>\n",
              "      <td>0</td>\n",
              "      <td>2</td>\n",
              "      <td>0</td>\n",
              "      <td>494</td>\n",
              "      <td>0</td>\n",
              "      <td>udp</td>\n",
              "      <td>3.952000e+08</td>\n",
              "      <td>0.000000</td>\n",
              "      <td>INT</td>\n",
              "      <td>0</td>\n",
              "      <td>0</td>\n",
              "      <td>247</td>\n",
              "      <td>0</td>\n",
              "      <td>0.000000</td>\n",
              "      <td>0.000000</td>\n",
              "      <td>0</td>\n",
              "      <td>0</td>\n",
              "      <td>0.000000</td>\n",
              "      <td>0.000000</td>\n",
              "      <td>0.000000</td>\n",
              "      <td>-</td>\n",
              "      <td>0</td>\n",
              "      <td>1</td>\n",
              "      <td>0</td>\n",
              "      <td>200000.005100</td>\n",
              "      <td>0</td>\n",
              "      <td>2682</td>\n",
              "      <td>57405</td>\n",
              "      <td>53966</td>\n",
              "      <td>1</td>\n",
              "    </tr>\n",
              "    <tr>\n",
              "      <th>3</th>\n",
              "      <td>4</td>\n",
              "      <td>16701</td>\n",
              "      <td>213.77.245.114</td>\n",
              "      <td>121.246.173.153</td>\n",
              "      <td>90.890543</td>\n",
              "      <td>80.888273</td>\n",
              "      <td>1</td>\n",
              "      <td>19:12:45</td>\n",
              "      <td>19:12:49</td>\n",
              "      <td>1</td>\n",
              "      <td>1</td>\n",
              "      <td>0.999796</td>\n",
              "      <td>255</td>\n",
              "      <td>255</td>\n",
              "      <td>2</td>\n",
              "      <td>2</td>\n",
              "      <td>3</td>\n",
              "      <td>1</td>\n",
              "      <td>62</td>\n",
              "      <td>252</td>\n",
              "      <td>1607997394</td>\n",
              "      <td>3339783268</td>\n",
              "      <td>1</td>\n",
              "      <td>12</td>\n",
              "      <td>12</td>\n",
              "      <td>1262</td>\n",
              "      <td>3234</td>\n",
              "      <td>tcp</td>\n",
              "      <td>9.257889e+03</td>\n",
              "      <td>23724.839840</td>\n",
              "      <td>FIN</td>\n",
              "      <td>3</td>\n",
              "      <td>3</td>\n",
              "      <td>105</td>\n",
              "      <td>270</td>\n",
              "      <td>5156.094532</td>\n",
              "      <td>144.096828</td>\n",
              "      <td>761</td>\n",
              "      <td>0</td>\n",
              "      <td>0.261904</td>\n",
              "      <td>0.153774</td>\n",
              "      <td>0.108130</td>\n",
              "      <td>http</td>\n",
              "      <td>0</td>\n",
              "      <td>1</td>\n",
              "      <td>1</td>\n",
              "      <td>23.004694</td>\n",
              "      <td>0</td>\n",
              "      <td>13608</td>\n",
              "      <td>53962</td>\n",
              "      <td>64901</td>\n",
              "      <td>1</td>\n",
              "    </tr>\n",
              "    <tr>\n",
              "      <th>4</th>\n",
              "      <td>5</td>\n",
              "      <td>80069</td>\n",
              "      <td>62.148.203.79</td>\n",
              "      <td>242.88.4.212</td>\n",
              "      <td>92.197800</td>\n",
              "      <td>0.001000</td>\n",
              "      <td>3</td>\n",
              "      <td>14:04:20</td>\n",
              "      <td>14:04:23</td>\n",
              "      <td>1</td>\n",
              "      <td>2</td>\n",
              "      <td>0.460989</td>\n",
              "      <td>255</td>\n",
              "      <td>255</td>\n",
              "      <td>7</td>\n",
              "      <td>4</td>\n",
              "      <td>3</td>\n",
              "      <td>2</td>\n",
              "      <td>62</td>\n",
              "      <td>252</td>\n",
              "      <td>1024827879</td>\n",
              "      <td>3673219255</td>\n",
              "      <td>0</td>\n",
              "      <td>6</td>\n",
              "      <td>2</td>\n",
              "      <td>1012</td>\n",
              "      <td>86</td>\n",
              "      <td>tcp</td>\n",
              "      <td>1.464677e+04</td>\n",
              "      <td>746.221741</td>\n",
              "      <td>CON</td>\n",
              "      <td>2</td>\n",
              "      <td>1</td>\n",
              "      <td>169</td>\n",
              "      <td>43</td>\n",
              "      <td>5109.490527</td>\n",
              "      <td>0.000000</td>\n",
              "      <td>0</td>\n",
              "      <td>0</td>\n",
              "      <td>0.340783</td>\n",
              "      <td>0.174539</td>\n",
              "      <td>0.166244</td>\n",
              "      <td>-</td>\n",
              "      <td>0</td>\n",
              "      <td>4</td>\n",
              "      <td>0</td>\n",
              "      <td>15.184744</td>\n",
              "      <td>0</td>\n",
              "      <td>12481</td>\n",
              "      <td>49609</td>\n",
              "      <td>62846</td>\n",
              "      <td>0</td>\n",
              "    </tr>\n",
              "  </tbody>\n",
              "</table>\n",
              "</div>"
            ],
            "text/plain": [
              "   packet_id  seq_no      ip_add_src  ... port_dest  port_src  is_nw_intruded\n",
              "0          1   81722    60.2.170.234  ...     64382     54834               1\n",
              "1          2   83673  79.179.114.175  ...     56998     54907               1\n",
              "2          3   60486  78.219.187.155  ...     57405     53966               1\n",
              "3          4   16701  213.77.245.114  ...     53962     64901               1\n",
              "4          5   80069   62.148.203.79  ...     49609     62846               0\n",
              "\n",
              "[5 rows x 52 columns]"
            ]
          },
          "metadata": {},
          "execution_count": 4
        }
      ]
    },
    {
      "cell_type": "code",
      "metadata": {
        "colab": {
          "base_uri": "https://localhost:8080/"
        },
        "id": "IAMAA8hV1ypU",
        "outputId": "cb517a55-8caf-4f4a-a4ef-d0e1e1458bd8"
      },
      "source": [
        "# Lets get a little more information\n",
        "print(train_df.info())\n",
        "print(train_df.describe())"
      ],
      "execution_count": null,
      "outputs": [
        {
          "output_type": "stream",
          "name": "stdout",
          "text": [
            "<class 'pandas.core.frame.DataFrame'>\n",
            "RangeIndex: 80000 entries, 0 to 79999\n",
            "Data columns (total 52 columns):\n",
            " #   Column            Non-Null Count  Dtype  \n",
            "---  ------            --------------  -----  \n",
            " 0   packet_id         80000 non-null  int64  \n",
            " 1   seq_no            80000 non-null  int64  \n",
            " 2   ip_add_src        80000 non-null  object \n",
            " 3   ip_add_dest       80000 non-null  object \n",
            " 4   src_inpk_at       80000 non-null  float64\n",
            " 5   dest_inpk_at      80000 non-null  float64\n",
            " 6   src_dest_ttl      80000 non-null  int64  \n",
            " 7   starttime         80000 non-null  object \n",
            " 8   lasttime          80000 non-null  object \n",
            " 9   lstm_cxn_sport    80000 non-null  int64  \n",
            " 10  lstm_cxn_dport    80000 non-null  int64  \n",
            " 11  total_rec_time    80000 non-null  float64\n",
            " 12  src_ad_val        80000 non-null  int64  \n",
            " 13  dest_ad_val       80000 non-null  int64  \n",
            " 14  cxn_service_src   80000 non-null  int64  \n",
            " 15  cxn_service_dest  80000 non-null  int64  \n",
            " 16  lstm_cxn_src      80000 non-null  int64  \n",
            " 17  lstm_cxn_dest     80000 non-null  int64  \n",
            " 18  src_ttl           80000 non-null  int64  \n",
            " 19  dest_ttl          80000 non-null  int64  \n",
            " 20  src_bsn           80000 non-null  int64  \n",
            " 21  dest_bsn          80000 non-null  int64  \n",
            " 22  http_depth        80000 non-null  int64  \n",
            " 23  src_pkt_count     80000 non-null  int64  \n",
            " 24  dest_pkt_count    80000 non-null  int64  \n",
            " 25  trans_src_bytes   80000 non-null  int64  \n",
            " 26  dest_src_bytes    80000 non-null  int64  \n",
            " 27  trans_protocol    80000 non-null  object \n",
            " 28  src_bits          80000 non-null  float64\n",
            " 29  dest_bits         80000 non-null  float64\n",
            " 30  dep_protocol      80000 non-null  object \n",
            " 31  src_dropped       80000 non-null  int64  \n",
            " 32  dest_dropped      80000 non-null  int64  \n",
            " 33  src_pkt_size      80000 non-null  int64  \n",
            " 34  dest_pkt_size     80000 non-null  int64  \n",
            " 35  src_jitter        80000 non-null  float64\n",
            " 36  dest_jitter       80000 non-null  float64\n",
            " 37  http_data_trans   80000 non-null  int64  \n",
            " 38  src_dst_ip        80000 non-null  int64  \n",
            " 39  cxn_rtt           80000 non-null  float64\n",
            " 40  pkack_cxn_rtt     80000 non-null  float64\n",
            " 41  pksyn_cxn_rtt     80000 non-null  float64\n",
            " 42  trans_type        80000 non-null  object \n",
            " 43  ftp_pswd_flow     80000 non-null  int64  \n",
            " 44  lstm_cxn_count    80000 non-null  int64  \n",
            " 45  req_method        80000 non-null  int64  \n",
            " 46  speed             80000 non-null  float64\n",
            " 47  ftp_access        80000 non-null  int64  \n",
            " 48  rnd               80000 non-null  int64  \n",
            " 49  port_dest         80000 non-null  int64  \n",
            " 50  port_src          80000 non-null  int64  \n",
            " 51  is_nw_intruded    80000 non-null  int64  \n",
            "dtypes: float64(11), int64(34), object(7)\n",
            "memory usage: 31.7+ MB\n",
            "None\n",
            "          packet_id         seq_no  ...      port_src  is_nw_intruded\n",
            "count  80000.000000   80000.000000  ...  80000.000000    80000.000000\n",
            "mean   40000.500000   50035.553475  ...  57232.528663        0.680137\n",
            "std    23094.155105   28869.162516  ...   4679.050045        0.466426\n",
            "min        1.000000       1.000000  ...  49152.000000        0.000000\n",
            "25%    20000.750000   25062.500000  ...  53172.000000        0.000000\n",
            "50%    40000.500000   50035.500000  ...  57224.000000        1.000000\n",
            "75%    60000.250000   74995.250000  ...  61292.000000        1.000000\n",
            "max    80000.000000  100001.000000  ...  65352.000000        1.000000\n",
            "\n",
            "[8 rows x 45 columns]\n"
          ]
        }
      ]
    },
    {
      "cell_type": "code",
      "metadata": {
        "colab": {
          "base_uri": "https://localhost:8080/"
        },
        "id": "T0rp66fG12p7",
        "outputId": "69150480-a3f0-40df-fcd1-f118c3a761fe"
      },
      "source": [
        "# See how many unique values\n",
        "train_df.nunique()"
      ],
      "execution_count": null,
      "outputs": [
        {
          "output_type": "execute_result",
          "data": {
            "text/plain": [
              "packet_id           80000\n",
              "seq_no              80000\n",
              "ip_add_src          79998\n",
              "ip_add_dest         79999\n",
              "src_inpk_at         44825\n",
              "dest_inpk_at        43246\n",
              "src_dest_ttl            7\n",
              "starttime           52262\n",
              "lasttime            57531\n",
              "lstm_cxn_sport         35\n",
              "lstm_cxn_dport         52\n",
              "total_rec_time      44525\n",
              "src_ad_val              9\n",
              "dest_ad_val            10\n",
              "cxn_service_src        57\n",
              "cxn_service_dest       57\n",
              "lstm_cxn_src           52\n",
              "lstm_cxn_dest          52\n",
              "src_ttl                10\n",
              "dest_ttl                9\n",
              "src_bsn             43812\n",
              "dest_bsn            43686\n",
              "http_depth             10\n",
              "src_pkt_count         427\n",
              "dest_pkt_count        399\n",
              "trans_src_bytes      5140\n",
              "dest_src_bytes       4591\n",
              "trans_protocol          2\n",
              "src_bits            48054\n",
              "dest_bits           45677\n",
              "dep_protocol            7\n",
              "src_dropped           310\n",
              "dest_dropped          312\n",
              "src_pkt_size         1308\n",
              "dest_pkt_size        1259\n",
              "src_jitter          44960\n",
              "dest_jitter         44173\n",
              "http_data_trans      1538\n",
              "src_dst_ip              2\n",
              "cxn_rtt             27857\n",
              "pkack_cxn_rtt       25346\n",
              "pksyn_cxn_rtt       26476\n",
              "trans_type             13\n",
              "ftp_pswd_flow           4\n",
              "lstm_cxn_count         57\n",
              "req_method             10\n",
              "speed               45584\n",
              "ftp_access              4\n",
              "rnd                 14927\n",
              "port_dest           16092\n",
              "port_src            16096\n",
              "is_nw_intruded          2\n",
              "dtype: int64"
            ]
          },
          "metadata": {},
          "execution_count": 6
        }
      ]
    },
    {
      "cell_type": "code",
      "metadata": {
        "colab": {
          "base_uri": "https://localhost:8080/"
        },
        "id": "I1l2BHxj15UM",
        "outputId": "2c3d676f-7f04-497a-d15a-eec9291dde79"
      },
      "source": [
        "# Focus in on one column - and see the value types\n",
        "#train_df['trans_protocol'].unique()\n",
        "#train_df['is_nw_intruded'].unique()\n",
        "#train_df = train_df.drop(['lasttime'],axis=1)\n",
        "#train_df['lasttime'].unique()\n",
        "\n",
        "\n",
        "train_df['trans_type'].unique()\n",
        "#train_df['dep_protocol'].unique()\n",
        "#train_df['trans_protocol'].unique()"
      ],
      "execution_count": null,
      "outputs": [
        {
          "output_type": "execute_result",
          "data": {
            "text/plain": [
              "array(['dns', '-', 'http', 'ftp-data', 'smtp', 'pop3', 'ftp', 'ssh',\n",
              "       'dhcp', 'snmp', 'ssl', 'radius', 'irc'], dtype=object)"
            ]
          },
          "metadata": {},
          "execution_count": 7
        }
      ]
    },
    {
      "cell_type": "code",
      "metadata": {
        "id": "CnvGG11F-Bpk"
      },
      "source": [
        "trans = {\"udp\": 0, \"tcp\": 1}\n",
        "data = [train_df]\n",
        "for dataset in data:\n",
        "    dataset['trans_protocol'] = dataset['trans_protocol'].map(trans)"
      ],
      "execution_count": null,
      "outputs": []
    },
    {
      "cell_type": "code",
      "metadata": {
        "id": "HeOyST3NF5Fg"
      },
      "source": [
        "dep = {\"INT\": 6, \"FIN\": 5, \"CON\":4, \"REQ\":3,\"RST\":2,\"CLO\":1,\"ACC\":0}\n",
        "data = [train_df]\n",
        "for dataset in data:\n",
        "    dataset['dep_protocol'] = dataset['dep_protocol'].map(dep)"
      ],
      "execution_count": null,
      "outputs": []
    },
    {
      "cell_type": "code",
      "metadata": {
        "id": "kDblqfHnGU_c"
      },
      "source": [
        "transType = {\"dns\": 0, \"-\": 1, \"http\":2, \"ftp-data\":3,\"smtp\":4, \"pop3\": 5, \"ftp\":6,\"ssh\":7, \"dhcp\":8,\"snmp\":9,\"ssl\":10,\"radius\":11,\"irc\":12}\n",
        "data = [train_df]\n",
        "for dataset in data:\n",
        "    dataset['trans_type'] = dataset['trans_type'].map(transType)"
      ],
      "execution_count": null,
      "outputs": []
    },
    {
      "cell_type": "code",
      "metadata": {
        "colab": {
          "base_uri": "https://localhost:8080/"
        },
        "id": "eAsTHYJWEnF0",
        "outputId": "4f251f13-066a-4116-f446-f6af67d6ca9b"
      },
      "source": [
        "train_df['trans_protocol'].unique()"
      ],
      "execution_count": null,
      "outputs": [
        {
          "output_type": "execute_result",
          "data": {
            "text/plain": [
              "array([0, 1])"
            ]
          },
          "metadata": {},
          "execution_count": 11
        }
      ]
    },
    {
      "cell_type": "markdown",
      "metadata": {
        "id": "i6KalT2719ug"
      },
      "source": [
        "Visualize the Data"
      ]
    },
    {
      "cell_type": "code",
      "metadata": {
        "colab": {
          "base_uri": "https://localhost:8080/",
          "height": 972
        },
        "id": "h0zcWo3X18Du",
        "outputId": "45be75d2-816f-4316-9e12-d2adb91e0c05"
      },
      "source": [
        "# Check for correlations between columns\n",
        "import seaborn as sns\n",
        "\n",
        "# Set size of seaborn plot\n",
        "sns.set(rc = {'figure.figsize': (20, 15)})\n",
        "\n",
        "# Calculate column correlations\n",
        "correlation = train_df.corr()\n",
        "\n",
        "#Plot the heatmap\n",
        "sns.heatmap(correlation)"
      ],
      "execution_count": null,
      "outputs": [
        {
          "output_type": "execute_result",
          "data": {
            "text/plain": [
              "<matplotlib.axes._subplots.AxesSubplot at 0x7f8371805e10>"
            ]
          },
          "metadata": {},
          "execution_count": 12
        },
        {
          "output_type": "display_data",
          "data": {
            "image/png": "[encoded data removed]",
            "text/plain": [
              "<Figure size 1440x1080 with 2 Axes>"
            ]
          },
          "metadata": {}
        }
      ]
    },
    {
      "cell_type": "markdown",
      "metadata": {
        "id": "QwYr92c22PXh"
      },
      "source": [
        "Make First Prediction"
      ]
    },
    {
      "cell_type": "code",
      "metadata": {
        "id": "pzgTsgoy2BqG"
      },
      "source": [
        "# Import model libraries\n",
        "from sklearn import svm\n",
        "from sklearn.model_selection import train_test_split"
      ],
      "execution_count": null,
      "outputs": []
    },
    {
      "cell_type": "code",
      "metadata": {
        "colab": {
          "base_uri": "https://localhost:8080/"
        },
        "id": "EPNcMqOK_P1K",
        "outputId": "2fbde35f-a127-464e-d7de-0a52e919d797"
      },
      "source": [
        "import numpy as np\n",
        "mycolumns = ['src_ttl', 'trans_protocol']\n",
        "train_df[mycolumns]\n",
        "print(train_df[mycolumns])\n",
        "y_data = train_df[[\"is_nw_intruded\"]]\n",
        "print (y_data.shape)\n",
        "train_x, test_x, train_y, test_y = train_test_split(train_df[mycolumns], y_data, test_size=0.2, random_state=42)"
      ],
      "execution_count": null,
      "outputs": [
        {
          "output_type": "stream",
          "name": "stdout",
          "text": [
            "       src_ttl  trans_protocol\n",
            "0          254               0\n",
            "1           62               1\n",
            "2          254               0\n",
            "3           62               1\n",
            "4           62               1\n",
            "...        ...             ...\n",
            "79995      254               1\n",
            "79996       31               0\n",
            "79997       31               1\n",
            "79998       31               1\n",
            "79999      254               1\n",
            "\n",
            "[80000 rows x 2 columns]\n",
            "(80000, 1)\n"
          ]
        }
      ]
    },
    {
      "cell_type": "code",
      "metadata": {
        "colab": {
          "base_uri": "https://localhost:8080/"
        },
        "id": "8sEx5y7V2MIg",
        "outputId": "6e34dd79-eed3-4805-c69b-c9f107c80b4b"
      },
      "source": [
        "#Attempt to fit the model\n",
        "#Create and train model\n",
        "SVM_Classifier=svm.SVC(max_iter=500)\n",
        "SVM_Classifier.fit(train_x,train_y)"
      ],
      "execution_count": null,
      "outputs": [
        {
          "output_type": "stream",
          "name": "stderr",
          "text": [
            "/usr/local/lib/python3.7/dist-packages/sklearn/utils/validation.py:760: DataConversionWarning: A column-vector y was passed when a 1d array was expected. Please change the shape of y to (n_samples, ), for example using ravel().\n",
            "  y = column_or_1d(y, warn=True)\n",
            "/usr/local/lib/python3.7/dist-packages/sklearn/svm/_base.py:231: ConvergenceWarning: Solver terminated early (max_iter=500).  Consider pre-processing your data with StandardScaler or MinMaxScaler.\n",
            "  % self.max_iter, ConvergenceWarning)\n"
          ]
        },
        {
          "output_type": "execute_result",
          "data": {
            "text/plain": [
              "SVC(C=1.0, break_ties=False, cache_size=200, class_weight=None, coef0=0.0,\n",
              "    decision_function_shape='ovr', degree=3, gamma='scale', kernel='rbf',\n",
              "    max_iter=500, probability=False, random_state=None, shrinking=True,\n",
              "    tol=0.001, verbose=False)"
            ]
          },
          "metadata": {},
          "execution_count": 15
        }
      ]
    },
    {
      "cell_type": "code",
      "metadata": {
        "colab": {
          "base_uri": "https://localhost:8080/"
        },
        "id": "T_263QlM2T5O",
        "outputId": "3aca150b-355d-439f-ae54-fb6cc519ddbf"
      },
      "source": [
        "# See how we did\n",
        "from sklearn import metrics\n",
        "y_pred=SVM_Classifier.predict(test_x)\n",
        "\n",
        "fpr, tpr, thresholds = metrics.roc_curve(test_y, y_pred, pos_label = 1)\n",
        "\n",
        "print(\"Accuracy: \", metrics.accuracy_score(test_y, y_pred))\n",
        "print(\"AUC: \", metrics.auc(fpr, tpr))"
      ],
      "execution_count": null,
      "outputs": [
        {
          "output_type": "stream",
          "name": "stdout",
          "text": [
            "Accuracy:  0.7829375\n",
            "AUC:  0.72341359863045\n"
          ]
        }
      ]
    },
    {
      "cell_type": "markdown",
      "metadata": {
        "id": "FTVl_9wR2ZCK"
      },
      "source": [
        "Making Predictions for the Training Set"
      ]
    },
    {
      "cell_type": "code",
      "metadata": {
        "id": "MoqG5KM82V8m"
      },
      "source": [
        "# Import the test set that was downloaded earlier\n",
        "test_df = pd.read_csv('test.csv')\n",
        "\n",
        "# Drop those same columns\n",
        "test_df = test_df.drop([\"ip_add_src\", \"ip_add_dest\", \"starttime\", \"lasttime\"], axis=1)"
      ],
      "execution_count": null,
      "outputs": []
    },
    {
      "cell_type": "code",
      "metadata": {
        "id": "krrRoRY1tw0q"
      },
      "source": [
        "transTest = {\"udp\": 0, \"tcp\": 1}\n",
        "data = [test_df]\n",
        "for dataset in data:\n",
        "    dataset['trans_protocol'] = dataset['trans_protocol'].map(transTest)"
      ],
      "execution_count": null,
      "outputs": []
    },
    {
      "cell_type": "code",
      "metadata": {
        "id": "XzdYlWvCt1ad"
      },
      "source": [
        "depTest = {\"INT\": 0, \"FIN\": 1, \"CON\":2, \"REQ\":3,\"RST\":4,\"CLO\":5,\"ACC\":6}\n",
        "data = [test_df]\n",
        "for dataset in data:\n",
        "    dataset['dep_protocol'] = dataset['dep_protocol'].map(depTest)"
      ],
      "execution_count": null,
      "outputs": []
    },
    {
      "cell_type": "code",
      "metadata": {
        "id": "iPXKqn8UuBTQ"
      },
      "source": [
        "transTypeTest = {\"dns\": 0, \"-\": 1, \"http\":2, \"ftp-data\":3,\"smtp\":4, \"pop3\": 5, \"ftp\":6,\"ssh\":7, \"dhcp\":8,\"snmp\":9,\"ssl\":10,\"radius\":11,\"irc\":12}\n",
        "data = [test_df]\n",
        "for dataset in data:\n",
        "    dataset['trans_type'] = dataset['trans_type'].map(transTypeTest)"
      ],
      "execution_count": null,
      "outputs": []
    },
    {
      "cell_type": "code",
      "metadata": {
        "colab": {
          "base_uri": "https://localhost:8080/",
          "height": 424
        },
        "id": "nvbgmQRLRH1X",
        "outputId": "1a2de115-632d-48c2-b9e2-11c7a6f395f3"
      },
      "source": [
        "myTestColumns = ['src_ttl','trans_protocol']\n",
        "test_df[myTestColumns]"
      ],
      "execution_count": null,
      "outputs": [
        {
          "output_type": "execute_result",
          "data": {
            "text/html": [
              "<div>\n",
              "<style scoped>\n",
              "    .dataframe tbody tr th:only-of-type {\n",
              "        vertical-align: middle;\n",
              "    }\n",
              "\n",
              "    .dataframe tbody tr th {\n",
              "        vertical-align: top;\n",
              "    }\n",
              "\n",
              "    .dataframe thead th {\n",
              "        text-align: right;\n",
              "    }\n",
              "</style>\n",
              "<table border=\"1\" class=\"dataframe\">\n",
              "  <thead>\n",
              "    <tr style=\"text-align: right;\">\n",
              "      <th></th>\n",
              "      <th>src_ttl</th>\n",
              "      <th>trans_protocol</th>\n",
              "    </tr>\n",
              "  </thead>\n",
              "  <tbody>\n",
              "    <tr>\n",
              "      <th>0</th>\n",
              "      <td>254</td>\n",
              "      <td>1</td>\n",
              "    </tr>\n",
              "    <tr>\n",
              "      <th>1</th>\n",
              "      <td>62</td>\n",
              "      <td>1</td>\n",
              "    </tr>\n",
              "    <tr>\n",
              "      <th>2</th>\n",
              "      <td>254</td>\n",
              "      <td>1</td>\n",
              "    </tr>\n",
              "    <tr>\n",
              "      <th>3</th>\n",
              "      <td>254</td>\n",
              "      <td>0</td>\n",
              "    </tr>\n",
              "    <tr>\n",
              "      <th>4</th>\n",
              "      <td>62</td>\n",
              "      <td>1</td>\n",
              "    </tr>\n",
              "    <tr>\n",
              "      <th>...</th>\n",
              "      <td>...</td>\n",
              "      <td>...</td>\n",
              "    </tr>\n",
              "    <tr>\n",
              "      <th>19995</th>\n",
              "      <td>62</td>\n",
              "      <td>1</td>\n",
              "    </tr>\n",
              "    <tr>\n",
              "      <th>19996</th>\n",
              "      <td>254</td>\n",
              "      <td>1</td>\n",
              "    </tr>\n",
              "    <tr>\n",
              "      <th>19997</th>\n",
              "      <td>254</td>\n",
              "      <td>0</td>\n",
              "    </tr>\n",
              "    <tr>\n",
              "      <th>19998</th>\n",
              "      <td>254</td>\n",
              "      <td>1</td>\n",
              "    </tr>\n",
              "    <tr>\n",
              "      <th>19999</th>\n",
              "      <td>254</td>\n",
              "      <td>0</td>\n",
              "    </tr>\n",
              "  </tbody>\n",
              "</table>\n",
              "<p>20000 rows × 2 columns</p>\n",
              "</div>"
            ],
            "text/plain": [
              "       src_ttl  trans_protocol\n",
              "0          254               1\n",
              "1           62               1\n",
              "2          254               1\n",
              "3          254               0\n",
              "4           62               1\n",
              "...        ...             ...\n",
              "19995       62               1\n",
              "19996      254               1\n",
              "19997      254               0\n",
              "19998      254               1\n",
              "19999      254               0\n",
              "\n",
              "[20000 rows x 2 columns]"
            ]
          },
          "metadata": {},
          "execution_count": 21
        }
      ]
    },
    {
      "cell_type": "code",
      "metadata": {
        "id": "3pbDmeOZ2ddK"
      },
      "source": [
        "# Make predicitions with model\n",
        "predictions = SVM_Classifier.predict(test_df[myTestColumns])"
      ],
      "execution_count": null,
      "outputs": []
    },
    {
      "cell_type": "code",
      "metadata": {
        "colab": {
          "base_uri": "https://localhost:8080/",
          "height": 454
        },
        "id": "fqOt7iC02fn4",
        "outputId": "265c300d-b5b8-459c-e1b0-a51548dd391f"
      },
      "source": [
        "# Save those predictions in proper format\n",
        "submission = pd.DataFrame(np.arange(1, len(predictions)+1))\n",
        "submission.index = np.arange(1, len(submission) +1)\n",
        "submission.index.rename('packet_id', inplace = True)\n",
        "submission.rename(columns={0: 'is_nw_intruded'}, inplace=True)\n",
        "submission['is_nw_intruded'] = predictions\n",
        "submission"
      ],
      "execution_count": null,
      "outputs": [
        {
          "output_type": "execute_result",
          "data": {
            "text/html": [
              "<div>\n",
              "<style scoped>\n",
              "    .dataframe tbody tr th:only-of-type {\n",
              "        vertical-align: middle;\n",
              "    }\n",
              "\n",
              "    .dataframe tbody tr th {\n",
              "        vertical-align: top;\n",
              "    }\n",
              "\n",
              "    .dataframe thead th {\n",
              "        text-align: right;\n",
              "    }\n",
              "</style>\n",
              "<table border=\"1\" class=\"dataframe\">\n",
              "  <thead>\n",
              "    <tr style=\"text-align: right;\">\n",
              "      <th></th>\n",
              "      <th>is_nw_intruded</th>\n",
              "    </tr>\n",
              "    <tr>\n",
              "      <th>packet_id</th>\n",
              "      <th></th>\n",
              "    </tr>\n",
              "  </thead>\n",
              "  <tbody>\n",
              "    <tr>\n",
              "      <th>1</th>\n",
              "      <td>1</td>\n",
              "    </tr>\n",
              "    <tr>\n",
              "      <th>2</th>\n",
              "      <td>1</td>\n",
              "    </tr>\n",
              "    <tr>\n",
              "      <th>3</th>\n",
              "      <td>1</td>\n",
              "    </tr>\n",
              "    <tr>\n",
              "      <th>4</th>\n",
              "      <td>1</td>\n",
              "    </tr>\n",
              "    <tr>\n",
              "      <th>5</th>\n",
              "      <td>1</td>\n",
              "    </tr>\n",
              "    <tr>\n",
              "      <th>...</th>\n",
              "      <td>...</td>\n",
              "    </tr>\n",
              "    <tr>\n",
              "      <th>19996</th>\n",
              "      <td>1</td>\n",
              "    </tr>\n",
              "    <tr>\n",
              "      <th>19997</th>\n",
              "      <td>1</td>\n",
              "    </tr>\n",
              "    <tr>\n",
              "      <th>19998</th>\n",
              "      <td>1</td>\n",
              "    </tr>\n",
              "    <tr>\n",
              "      <th>19999</th>\n",
              "      <td>1</td>\n",
              "    </tr>\n",
              "    <tr>\n",
              "      <th>20000</th>\n",
              "      <td>1</td>\n",
              "    </tr>\n",
              "  </tbody>\n",
              "</table>\n",
              "<p>20000 rows × 1 columns</p>\n",
              "</div>"
            ],
            "text/plain": [
              "           is_nw_intruded\n",
              "packet_id                \n",
              "1                       1\n",
              "2                       1\n",
              "3                       1\n",
              "4                       1\n",
              "5                       1\n",
              "...                   ...\n",
              "19996                   1\n",
              "19997                   1\n",
              "19998                   1\n",
              "19999                   1\n",
              "20000                   1\n",
              "\n",
              "[20000 rows x 1 columns]"
            ]
          },
          "metadata": {},
          "execution_count": 23
        }
      ]
    },
    {
      "cell_type": "code",
      "metadata": {
        "id": "P50zaMO1xaQx"
      },
      "source": [
        "# Save to csv to Kaggle\n",
        "submission.to_csv(\"SVM_Kaggle3.csv\")"
      ],
      "execution_count": null,
      "outputs": []
    }
  ]
}